{
 "cells": [
  {
   "cell_type": "code",
   "execution_count": null,
   "metadata": {},
   "outputs": [],
   "source": [
    "import pandas as pd\n",
    "import seaborn as sns\n",
    "import missingno as msno\n",
    "import numpy as np \n",
    "import pylab \n",
    "import scipy.stats as stats\n",
    "import matplotlib.pyplot as plt\n",
    "from sklearn.model_selection import train_test_split\n",
    "from catboost import CatBoostRegressor\n",
    "from sklearn.metrics import (r2_score, mean_squared_error)"
   ]
  },
  {
   "cell_type": "code",
   "execution_count": 59,
   "metadata": {},
   "outputs": [
    {
     "name": "stderr",
     "output_type": "stream",
     "text": [
      "/anaconda3/lib/python3.7/site-packages/IPython/core/interactiveshell.py:3146: DtypeWarning: Columns (4,5,8,13,14,15,16,17) have mixed types. Specify dtype option on import or set low_memory=False.\n",
      "  interactivity=interactivity, compiler=compiler, result=result)\n"
     ]
    }
   ],
   "source": [
    "instructors = pd.read_csv('Instructors.csv', sep=';')\n",
    "instructors.columns = ['instructor_id', 'instructor_IsMale', 'instructor_Age']\n",
    "instructors['instructor_id'] = instructors['instructor_id'].astype(str)\n",
    "soc_dem = pd.read_csv('demo_satbayev.csv')\n",
    "main = pd.read_csv(\n",
    "    'Свежая 24.04.2021.csv', sep=';', header=None\n",
    ")\n",
    "\n",
    "main.columns = [\n",
    "       'StudentID', 'SpecialityID', 'Region', 'District', 'SchoolType',\n",
    "       'School', 'LabInsctructorID', 'PracticeInsctructorID',\n",
    "       'LectureInsctructorID', 'CourseID', 'CourseCode',\n",
    "       'PrerequisiteCourseID', 'PrerequisiteCourseCode', 'CourseTypeID',\n",
    "       'CourseTypeDVOID', 'CourseCreditsNum', 'StudyYear', 'SemesterTypeID',\n",
    "       'LanguageID', 'Attestation1', 'Attestation2', 'Final', 'TotalPoints',\n",
    "       'LetterGrade', 'Coefficient ', 'SemesterGPA', 'YearGPA',\n",
    "       'CumulativeGPA', 'Year'\n",
    "]\n",
    "for i in ['Attestation1','Attestation2','StudyYear','Final',]:\n",
    "    main[i] = main[i].str.replace(',','.').astype(float)\n",
    "\n",
    "for i in ['Attestation1','Attestation2']:\n",
    "    main = main[\n",
    "        (main[i]<=30) & (main[i]>=0)\n",
    "               ]\n",
    "    \n",
    "main = main[\n",
    "    (main.Final<=40) & (main.Final>=0)\n",
    "]\n",
    "\n",
    "\n",
    "main['LabInsctructorID'] = main['LabInsctructorID'].fillna('').astype(str)\n",
    "main['PracticeInsctructorID'] = main['PracticeInsctructorID'].fillna('').astype(str)\n",
    "main['LectureInsctructorID'] = main['LectureInsctructorID'].fillna('').astype(str)\n",
    "main['instructor_id'] = main['LabInsctructorID']+','+main['PracticeInsctructorID']+','+main['LectureInsctructorID']\n",
    "def instructor_parser(x):\n",
    "    x = x.split(',')\n",
    "    if x[2]!='':\n",
    "        res=x[2]\n",
    "    elif x[1]!='':\n",
    "        res=x[1]\n",
    "    else:\n",
    "        res=x[0]\n",
    "    return res\n",
    "main['instructor_id'] = main['instructor_id'].apply(lambda x: instructor_parser(x))\n",
    "main = main.drop(['LabInsctructorID','PracticeInsctructorID','LectureInsctructorID'], axis=1)\n",
    "\n",
    "\n",
    "def flatten_multi_index(df,white_list, word):\n",
    "    mi = df.columns\n",
    "    suffixes, prefixes = mi.levels\n",
    "    print(white_list)\n",
    "    col_names = [\n",
    "        word+prefixes[i_p] + '_' + suffixes[i_s] for (i_s, i_p) in zip(*mi.codes) if suffixes[i_s] not in white_list]\n",
    "    df.columns = white_list + col_names\n",
    "    return 0"
   ]
  },
  {
   "cell_type": "markdown",
   "metadata": {},
   "source": [
    "# нам нужны аттестации всех первокурсников"
   ]
  },
  {
   "cell_type": "code",
   "execution_count": 60,
   "metadata": {},
   "outputs": [],
   "source": [
    "df = main[main.Year==1.0]\n",
    "\n",
    "df = df.merge(soc_dem, on='StudentID')\n",
    "df = df.merge(instructors,on='instructor_id', how='left')\n",
    "df = df[\n",
    "    [\n",
    "         'StudentID', 'IsMale',\n",
    "         'Age', 'lats', 'lons',\n",
    "         'CourseCode','instructor_id',\n",
    "         'distance_satbayev','Attestation1','Attestation2','Final',\n",
    "         'LanguageID','StudyYear',\n",
    "         'instructor_IsMale','instructor_Age'\n",
    "    ]\n",
    "]\n",
    "\n",
    "df['StudyYear'] = df['StudyYear'] - 1\n",
    "\n",
    "df['instructor_id'] = df.instructor_id.astype(str) + '_' + df.StudyYear.astype(str)\n",
    "df = df.drop(\n",
    "    ['StudyYear'],\n",
    "    axis=1\n",
    ")"
   ]
  },
  {
   "cell_type": "markdown",
   "metadata": {},
   "source": [
    "# lector features for each year"
   ]
  },
  {
   "cell_type": "code",
   "execution_count": 61,
   "metadata": {},
   "outputs": [
    {
     "name": "stderr",
     "output_type": "stream",
     "text": [
      "/anaconda3/lib/python3.7/site-packages/ipykernel_launcher.py:4: SettingWithCopyWarning: \n",
      "A value is trying to be set on a copy of a slice from a DataFrame.\n",
      "Try using .loc[row_indexer,col_indexer] = value instead\n",
      "\n",
      "See the caveats in the documentation: http://pandas.pydata.org/pandas-docs/stable/user_guide/indexing.html#returning-a-view-versus-a-copy\n",
      "  after removing the cwd from sys.path.\n"
     ]
    },
    {
     "name": "stdout",
     "output_type": "stream",
     "text": [
      "[]\n"
     ]
    }
   ],
   "source": [
    "lector_features = pd.DataFrame()\n",
    "for i in main.StudyYear.unique():\n",
    "    temp = main[main.StudyYear<=i]\n",
    "    temp['instructor_id'] = temp['instructor_id'].astype(str)+'_'+str(i)\n",
    "    temp = temp.groupby('instructor_id').agg(\n",
    "        {\n",
    "            'Attestation1' : [\n",
    "                'min', 'max', 'mean',\n",
    "                'std', 'sum', 'last',\n",
    "                'first'],\n",
    "            'Attestation2' : [\n",
    "                'min', 'max', 'mean',\n",
    "                'std', 'sum', 'last',\n",
    "                'first'],\n",
    "            'Final' : [\n",
    "                'min', 'max', 'mean',\n",
    "                'std', 'sum', 'last',\n",
    "                'first']\n",
    "        }\n",
    "    )\n",
    "    lector_features = pd.concat([lector_features,temp])\n",
    "\n",
    "flatten_multi_index(\n",
    "    lector_features, [], 'instructor_'\n",
    ")\n",
    "\n",
    "lector_features = lector_features.reset_index()"
   ]
  },
  {
   "cell_type": "code",
   "execution_count": 110,
   "metadata": {},
   "outputs": [
    {
     "data": {
      "text/html": [
       "<div>\n",
       "<style scoped>\n",
       "    .dataframe tbody tr th:only-of-type {\n",
       "        vertical-align: middle;\n",
       "    }\n",
       "\n",
       "    .dataframe tbody tr th {\n",
       "        vertical-align: top;\n",
       "    }\n",
       "\n",
       "    .dataframe thead th {\n",
       "        text-align: right;\n",
       "    }\n",
       "</style>\n",
       "<table border=\"1\" class=\"dataframe\">\n",
       "  <thead>\n",
       "    <tr style=\"text-align: right;\">\n",
       "      <th></th>\n",
       "      <th>instructor_id</th>\n",
       "      <th>instructor_min_Attestation1</th>\n",
       "      <th>instructor_max_Attestation1</th>\n",
       "      <th>instructor_mean_Attestation1</th>\n",
       "      <th>instructor_std_Attestation1</th>\n",
       "      <th>instructor_sum_Attestation1</th>\n",
       "      <th>instructor_last_Attestation1</th>\n",
       "      <th>instructor_first_Attestation1</th>\n",
       "      <th>instructor_min_Attestation2</th>\n",
       "      <th>instructor_max_Attestation2</th>\n",
       "      <th>...</th>\n",
       "      <th>instructor_sum_Attestation2</th>\n",
       "      <th>instructor_last_Attestation2</th>\n",
       "      <th>instructor_first_Attestation2</th>\n",
       "      <th>instructor_min_Final</th>\n",
       "      <th>instructor_max_Final</th>\n",
       "      <th>instructor_mean_Final</th>\n",
       "      <th>instructor_std_Final</th>\n",
       "      <th>instructor_sum_Final</th>\n",
       "      <th>instructor_last_Final</th>\n",
       "      <th>instructor_first_Final</th>\n",
       "    </tr>\n",
       "  </thead>\n",
       "  <tbody>\n",
       "    <tr>\n",
       "      <th>0</th>\n",
       "      <td>_2014.0</td>\n",
       "      <td>0.0</td>\n",
       "      <td>30.0</td>\n",
       "      <td>24.715598</td>\n",
       "      <td>5.213861</td>\n",
       "      <td>583658.85</td>\n",
       "      <td>25.2</td>\n",
       "      <td>30.0</td>\n",
       "      <td>0.0</td>\n",
       "      <td>30.0</td>\n",
       "      <td>...</td>\n",
       "      <td>597716.75</td>\n",
       "      <td>28.5</td>\n",
       "      <td>30.0</td>\n",
       "      <td>0.0</td>\n",
       "      <td>40.0</td>\n",
       "      <td>35.659441</td>\n",
       "      <td>6.819118</td>\n",
       "      <td>842097.7</td>\n",
       "      <td>38.0</td>\n",
       "      <td>40.0</td>\n",
       "    </tr>\n",
       "    <tr>\n",
       "      <th>1</th>\n",
       "      <td>_2016.0</td>\n",
       "      <td>0.0</td>\n",
       "      <td>30.0</td>\n",
       "      <td>23.961718</td>\n",
       "      <td>4.983152</td>\n",
       "      <td>3135151.15</td>\n",
       "      <td>18.0</td>\n",
       "      <td>30.0</td>\n",
       "      <td>0.0</td>\n",
       "      <td>30.0</td>\n",
       "      <td>...</td>\n",
       "      <td>3186922.85</td>\n",
       "      <td>21.0</td>\n",
       "      <td>30.0</td>\n",
       "      <td>0.0</td>\n",
       "      <td>40.0</td>\n",
       "      <td>31.841072</td>\n",
       "      <td>9.125086</td>\n",
       "      <td>4166085.9</td>\n",
       "      <td>28.0</td>\n",
       "      <td>40.0</td>\n",
       "    </tr>\n",
       "    <tr>\n",
       "      <th>2</th>\n",
       "      <td>_2015.0</td>\n",
       "      <td>0.0</td>\n",
       "      <td>30.0</td>\n",
       "      <td>24.487953</td>\n",
       "      <td>4.882295</td>\n",
       "      <td>1679530.75</td>\n",
       "      <td>18.0</td>\n",
       "      <td>30.0</td>\n",
       "      <td>0.0</td>\n",
       "      <td>30.0</td>\n",
       "      <td>...</td>\n",
       "      <td>1713834.05</td>\n",
       "      <td>21.0</td>\n",
       "      <td>30.0</td>\n",
       "      <td>0.0</td>\n",
       "      <td>40.0</td>\n",
       "      <td>34.434589</td>\n",
       "      <td>7.422868</td>\n",
       "      <td>2361730.7</td>\n",
       "      <td>28.0</td>\n",
       "      <td>40.0</td>\n",
       "    </tr>\n",
       "    <tr>\n",
       "      <th>3</th>\n",
       "      <td>_2013.0</td>\n",
       "      <td>0.0</td>\n",
       "      <td>30.0</td>\n",
       "      <td>24.932526</td>\n",
       "      <td>5.402035</td>\n",
       "      <td>242493.75</td>\n",
       "      <td>0.0</td>\n",
       "      <td>0.0</td>\n",
       "      <td>0.0</td>\n",
       "      <td>30.0</td>\n",
       "      <td>...</td>\n",
       "      <td>246930.15</td>\n",
       "      <td>0.0</td>\n",
       "      <td>0.0</td>\n",
       "      <td>0.0</td>\n",
       "      <td>40.0</td>\n",
       "      <td>35.667458</td>\n",
       "      <td>6.829371</td>\n",
       "      <td>346901.7</td>\n",
       "      <td>0.0</td>\n",
       "      <td>0.0</td>\n",
       "    </tr>\n",
       "    <tr>\n",
       "      <th>4</th>\n",
       "      <td>_2012.0</td>\n",
       "      <td>0.0</td>\n",
       "      <td>30.0</td>\n",
       "      <td>21.208288</td>\n",
       "      <td>8.361984</td>\n",
       "      <td>11643.35</td>\n",
       "      <td>0.0</td>\n",
       "      <td>28.2</td>\n",
       "      <td>0.0</td>\n",
       "      <td>30.0</td>\n",
       "      <td>...</td>\n",
       "      <td>11502.95</td>\n",
       "      <td>0.0</td>\n",
       "      <td>27.9</td>\n",
       "      <td>0.0</td>\n",
       "      <td>40.0</td>\n",
       "      <td>29.403825</td>\n",
       "      <td>12.299246</td>\n",
       "      <td>16142.7</td>\n",
       "      <td>0.0</td>\n",
       "      <td>38.0</td>\n",
       "    </tr>\n",
       "    <tr>\n",
       "      <th>...</th>\n",
       "      <td>...</td>\n",
       "      <td>...</td>\n",
       "      <td>...</td>\n",
       "      <td>...</td>\n",
       "      <td>...</td>\n",
       "      <td>...</td>\n",
       "      <td>...</td>\n",
       "      <td>...</td>\n",
       "      <td>...</td>\n",
       "      <td>...</td>\n",
       "      <td>...</td>\n",
       "      <td>...</td>\n",
       "      <td>...</td>\n",
       "      <td>...</td>\n",
       "      <td>...</td>\n",
       "      <td>...</td>\n",
       "      <td>...</td>\n",
       "      <td>...</td>\n",
       "      <td>...</td>\n",
       "      <td>...</td>\n",
       "      <td>...</td>\n",
       "    </tr>\n",
       "    <tr>\n",
       "      <th>5666</th>\n",
       "      <td>_2011.0</td>\n",
       "      <td>0.0</td>\n",
       "      <td>30.0</td>\n",
       "      <td>20.845114</td>\n",
       "      <td>8.653506</td>\n",
       "      <td>6399.45</td>\n",
       "      <td>25.8</td>\n",
       "      <td>22.5</td>\n",
       "      <td>0.0</td>\n",
       "      <td>30.0</td>\n",
       "      <td>...</td>\n",
       "      <td>6219.15</td>\n",
       "      <td>25.8</td>\n",
       "      <td>23.1</td>\n",
       "      <td>0.0</td>\n",
       "      <td>40.0</td>\n",
       "      <td>29.149837</td>\n",
       "      <td>12.122079</td>\n",
       "      <td>8949.0</td>\n",
       "      <td>34.0</td>\n",
       "      <td>30.0</td>\n",
       "    </tr>\n",
       "    <tr>\n",
       "      <th>5667</th>\n",
       "      <td>_2007.0</td>\n",
       "      <td>0.0</td>\n",
       "      <td>30.0</td>\n",
       "      <td>22.480769</td>\n",
       "      <td>9.065377</td>\n",
       "      <td>1753.50</td>\n",
       "      <td>20.0</td>\n",
       "      <td>30.0</td>\n",
       "      <td>0.0</td>\n",
       "      <td>30.0</td>\n",
       "      <td>...</td>\n",
       "      <td>1779.90</td>\n",
       "      <td>20.0</td>\n",
       "      <td>30.0</td>\n",
       "      <td>0.0</td>\n",
       "      <td>40.0</td>\n",
       "      <td>27.846154</td>\n",
       "      <td>12.036823</td>\n",
       "      <td>2172.0</td>\n",
       "      <td>28.0</td>\n",
       "      <td>40.0</td>\n",
       "    </tr>\n",
       "    <tr>\n",
       "      <th>5668</th>\n",
       "      <td>_2008.0</td>\n",
       "      <td>0.0</td>\n",
       "      <td>30.0</td>\n",
       "      <td>21.951429</td>\n",
       "      <td>9.252080</td>\n",
       "      <td>2304.90</td>\n",
       "      <td>20.0</td>\n",
       "      <td>30.0</td>\n",
       "      <td>0.0</td>\n",
       "      <td>30.0</td>\n",
       "      <td>...</td>\n",
       "      <td>2361.90</td>\n",
       "      <td>20.0</td>\n",
       "      <td>30.0</td>\n",
       "      <td>0.0</td>\n",
       "      <td>40.0</td>\n",
       "      <td>28.952381</td>\n",
       "      <td>11.713225</td>\n",
       "      <td>3040.0</td>\n",
       "      <td>28.0</td>\n",
       "      <td>40.0</td>\n",
       "    </tr>\n",
       "    <tr>\n",
       "      <th>5669</th>\n",
       "      <td>_2005.0</td>\n",
       "      <td>0.0</td>\n",
       "      <td>30.0</td>\n",
       "      <td>24.285714</td>\n",
       "      <td>10.402610</td>\n",
       "      <td>510.00</td>\n",
       "      <td>30.0</td>\n",
       "      <td>25.0</td>\n",
       "      <td>0.0</td>\n",
       "      <td>30.0</td>\n",
       "      <td>...</td>\n",
       "      <td>510.00</td>\n",
       "      <td>30.0</td>\n",
       "      <td>25.0</td>\n",
       "      <td>0.0</td>\n",
       "      <td>38.0</td>\n",
       "      <td>26.523810</td>\n",
       "      <td>11.651691</td>\n",
       "      <td>557.0</td>\n",
       "      <td>30.0</td>\n",
       "      <td>25.0</td>\n",
       "    </tr>\n",
       "    <tr>\n",
       "      <th>5670</th>\n",
       "      <td>_2006.0</td>\n",
       "      <td>0.0</td>\n",
       "      <td>30.0</td>\n",
       "      <td>23.832558</td>\n",
       "      <td>8.236727</td>\n",
       "      <td>1024.80</td>\n",
       "      <td>20.0</td>\n",
       "      <td>25.0</td>\n",
       "      <td>0.0</td>\n",
       "      <td>30.0</td>\n",
       "      <td>...</td>\n",
       "      <td>1020.00</td>\n",
       "      <td>20.0</td>\n",
       "      <td>25.0</td>\n",
       "      <td>0.0</td>\n",
       "      <td>40.0</td>\n",
       "      <td>29.372093</td>\n",
       "      <td>9.636299</td>\n",
       "      <td>1263.0</td>\n",
       "      <td>28.0</td>\n",
       "      <td>25.0</td>\n",
       "    </tr>\n",
       "  </tbody>\n",
       "</table>\n",
       "<p>5671 rows × 22 columns</p>\n",
       "</div>"
      ],
      "text/plain": [
       "     instructor_id  instructor_min_Attestation1  instructor_max_Attestation1  \\\n",
       "0          _2014.0                          0.0                         30.0   \n",
       "1          _2016.0                          0.0                         30.0   \n",
       "2          _2015.0                          0.0                         30.0   \n",
       "3          _2013.0                          0.0                         30.0   \n",
       "4          _2012.0                          0.0                         30.0   \n",
       "...            ...                          ...                          ...   \n",
       "5666       _2011.0                          0.0                         30.0   \n",
       "5667       _2007.0                          0.0                         30.0   \n",
       "5668       _2008.0                          0.0                         30.0   \n",
       "5669       _2005.0                          0.0                         30.0   \n",
       "5670       _2006.0                          0.0                         30.0   \n",
       "\n",
       "      instructor_mean_Attestation1  instructor_std_Attestation1  \\\n",
       "0                        24.715598                     5.213861   \n",
       "1                        23.961718                     4.983152   \n",
       "2                        24.487953                     4.882295   \n",
       "3                        24.932526                     5.402035   \n",
       "4                        21.208288                     8.361984   \n",
       "...                            ...                          ...   \n",
       "5666                     20.845114                     8.653506   \n",
       "5667                     22.480769                     9.065377   \n",
       "5668                     21.951429                     9.252080   \n",
       "5669                     24.285714                    10.402610   \n",
       "5670                     23.832558                     8.236727   \n",
       "\n",
       "      instructor_sum_Attestation1  instructor_last_Attestation1  \\\n",
       "0                       583658.85                          25.2   \n",
       "1                      3135151.15                          18.0   \n",
       "2                      1679530.75                          18.0   \n",
       "3                       242493.75                           0.0   \n",
       "4                        11643.35                           0.0   \n",
       "...                           ...                           ...   \n",
       "5666                      6399.45                          25.8   \n",
       "5667                      1753.50                          20.0   \n",
       "5668                      2304.90                          20.0   \n",
       "5669                       510.00                          30.0   \n",
       "5670                      1024.80                          20.0   \n",
       "\n",
       "      instructor_first_Attestation1  instructor_min_Attestation2  \\\n",
       "0                              30.0                          0.0   \n",
       "1                              30.0                          0.0   \n",
       "2                              30.0                          0.0   \n",
       "3                               0.0                          0.0   \n",
       "4                              28.2                          0.0   \n",
       "...                             ...                          ...   \n",
       "5666                           22.5                          0.0   \n",
       "5667                           30.0                          0.0   \n",
       "5668                           30.0                          0.0   \n",
       "5669                           25.0                          0.0   \n",
       "5670                           25.0                          0.0   \n",
       "\n",
       "      instructor_max_Attestation2  ...  instructor_sum_Attestation2  \\\n",
       "0                            30.0  ...                    597716.75   \n",
       "1                            30.0  ...                   3186922.85   \n",
       "2                            30.0  ...                   1713834.05   \n",
       "3                            30.0  ...                    246930.15   \n",
       "4                            30.0  ...                     11502.95   \n",
       "...                           ...  ...                          ...   \n",
       "5666                         30.0  ...                      6219.15   \n",
       "5667                         30.0  ...                      1779.90   \n",
       "5668                         30.0  ...                      2361.90   \n",
       "5669                         30.0  ...                       510.00   \n",
       "5670                         30.0  ...                      1020.00   \n",
       "\n",
       "      instructor_last_Attestation2  instructor_first_Attestation2  \\\n",
       "0                             28.5                           30.0   \n",
       "1                             21.0                           30.0   \n",
       "2                             21.0                           30.0   \n",
       "3                              0.0                            0.0   \n",
       "4                              0.0                           27.9   \n",
       "...                            ...                            ...   \n",
       "5666                          25.8                           23.1   \n",
       "5667                          20.0                           30.0   \n",
       "5668                          20.0                           30.0   \n",
       "5669                          30.0                           25.0   \n",
       "5670                          20.0                           25.0   \n",
       "\n",
       "      instructor_min_Final  instructor_max_Final  instructor_mean_Final  \\\n",
       "0                      0.0                  40.0              35.659441   \n",
       "1                      0.0                  40.0              31.841072   \n",
       "2                      0.0                  40.0              34.434589   \n",
       "3                      0.0                  40.0              35.667458   \n",
       "4                      0.0                  40.0              29.403825   \n",
       "...                    ...                   ...                    ...   \n",
       "5666                   0.0                  40.0              29.149837   \n",
       "5667                   0.0                  40.0              27.846154   \n",
       "5668                   0.0                  40.0              28.952381   \n",
       "5669                   0.0                  38.0              26.523810   \n",
       "5670                   0.0                  40.0              29.372093   \n",
       "\n",
       "      instructor_std_Final  instructor_sum_Final  instructor_last_Final  \\\n",
       "0                 6.819118              842097.7                   38.0   \n",
       "1                 9.125086             4166085.9                   28.0   \n",
       "2                 7.422868             2361730.7                   28.0   \n",
       "3                 6.829371              346901.7                    0.0   \n",
       "4                12.299246               16142.7                    0.0   \n",
       "...                    ...                   ...                    ...   \n",
       "5666             12.122079                8949.0                   34.0   \n",
       "5667             12.036823                2172.0                   28.0   \n",
       "5668             11.713225                3040.0                   28.0   \n",
       "5669             11.651691                 557.0                   30.0   \n",
       "5670              9.636299                1263.0                   28.0   \n",
       "\n",
       "      instructor_first_Final  \n",
       "0                       40.0  \n",
       "1                       40.0  \n",
       "2                       40.0  \n",
       "3                        0.0  \n",
       "4                       38.0  \n",
       "...                      ...  \n",
       "5666                    30.0  \n",
       "5667                    40.0  \n",
       "5668                    40.0  \n",
       "5669                    25.0  \n",
       "5670                    25.0  \n",
       "\n",
       "[5671 rows x 22 columns]"
      ]
     },
     "execution_count": 110,
     "metadata": {},
     "output_type": "execute_result"
    }
   ],
   "source": [
    "lector_features"
   ]
  },
  {
   "cell_type": "markdown",
   "metadata": {},
   "source": [
    "# merge"
   ]
  },
  {
   "cell_type": "code",
   "execution_count": 62,
   "metadata": {},
   "outputs": [],
   "source": [
    "df = df.merge(lector_features, on='instructor_id', how='left')"
   ]
  },
  {
   "cell_type": "code",
   "execution_count": 64,
   "metadata": {},
   "outputs": [],
   "source": [
    "df['instructor_id'] = df['instructor_id'].astype(str)"
   ]
  },
  {
   "cell_type": "code",
   "execution_count": 65,
   "metadata": {},
   "outputs": [],
   "source": [
    "df['target_object'] = df['StudentID'].astype(str) +'_'+df['CourseCode'].astype(str)"
   ]
  },
  {
   "cell_type": "code",
   "execution_count": 66,
   "metadata": {},
   "outputs": [
    {
     "data": {
      "text/plain": [
       "(48933, 4528, 2715)"
      ]
     },
     "execution_count": 66,
     "metadata": {},
     "output_type": "execute_result"
    }
   ],
   "source": [
    "len(df['target_object'].unique()), len(df['StudentID'].unique()), len(df['CourseCode'].unique())"
   ]
  },
  {
   "cell_type": "code",
   "execution_count": 67,
   "metadata": {},
   "outputs": [],
   "source": [
    "df = df.drop_duplicates(subset=['target_object'])"
   ]
  },
  {
   "cell_type": "code",
   "execution_count": 68,
   "metadata": {},
   "outputs": [],
   "source": [
    "df = df.fillna(-999)"
   ]
  },
  {
   "cell_type": "code",
   "execution_count": 418,
   "metadata": {},
   "outputs": [],
   "source": [
    "df.to_csv('1kursniki_dataset.csv', index=False)"
   ]
  },
  {
   "cell_type": "code",
   "execution_count": 100,
   "metadata": {},
   "outputs": [],
   "source": [
    "X = df.drop(['StudentID','CourseCode','instructor_id',\n",
    "             'target_object','Attestation1','Attestation2',\n",
    "            'Final'], axis=1)\n",
    "\n",
    "y = df[['Final']]\n",
    "\n",
    "X_train, X_test, y_train, y_test = train_test_split(\n",
    "    X, y, test_size=0.3, random_state=12)"
   ]
  },
  {
   "cell_type": "code",
   "execution_count": 101,
   "metadata": {},
   "outputs": [
    {
     "name": "stdout",
     "output_type": "stream",
     "text": [
      "(34253, 29) (14680, 29) (34253, 1) (14680, 1)\n"
     ]
    }
   ],
   "source": [
    "print(X_train.shape, X_test.shape, y_train.shape, y_test.shape)"
   ]
  },
  {
   "cell_type": "code",
   "execution_count": 102,
   "metadata": {},
   "outputs": [],
   "source": [
    "import lightgbm as lgb"
   ]
  },
  {
   "cell_type": "code",
   "execution_count": 309,
   "metadata": {},
   "outputs": [],
   "source": [
    "params={'learning_rate': 0.01,\n",
    "        'objective':'regression',\n",
    "        'metric':'rmse',\n",
    "        'num_leaves': 31,\n",
    "        'verbose': 1,\n",
    "        'bagging_fraction': 0.9,\n",
    "        'feature_fraction': 0.9,\n",
    "        \"random_state\":42,\n",
    "        'max_depth': 5,\n",
    "        \"bagging_seed\" : 42,\n",
    "        \"verbosity\" : -1,\n",
    "        \"bagging_frequency\" : 5,\n",
    "        'lambda_l2': 0.5,\n",
    "        'lambda_l1': 0.5,\n",
    "        'min_child_samples': 36\n",
    "       }"
   ]
  },
  {
   "cell_type": "code",
   "execution_count": 103,
   "metadata": {},
   "outputs": [],
   "source": [
    "l = lgb.LGBMRegressor(n_estimators=50)"
   ]
  },
  {
   "cell_type": "code",
   "execution_count": 104,
   "metadata": {},
   "outputs": [
    {
     "data": {
      "text/plain": [
       "LGBMRegressor(boosting_type='gbdt', class_weight=None, colsample_bytree=1.0,\n",
       "              importance_type='split', learning_rate=0.1, max_depth=-1,\n",
       "              min_child_samples=20, min_child_weight=0.001, min_split_gain=0.0,\n",
       "              n_estimators=50, n_jobs=-1, num_leaves=31, objective=None,\n",
       "              random_state=None, reg_alpha=0.0, reg_lambda=0.0, silent=True,\n",
       "              subsample=1.0, subsample_for_bin=200000, subsample_freq=0)"
      ]
     },
     "execution_count": 104,
     "metadata": {},
     "output_type": "execute_result"
    }
   ],
   "source": [
    "l.fit(X_train,y_train)"
   ]
  },
  {
   "cell_type": "code",
   "execution_count": 75,
   "metadata": {},
   "outputs": [],
   "source": [
    "def metrics(model, y_test, X_test):\n",
    "    print()\n",
    "    print(model)\n",
    "    print()\n",
    "    print('***************************************')\n",
    "    print ('MSE:  ', mean_squared_error(y_test, model.predict(X_test))**0.5)\n",
    "    print( 'r2:   ' , r2_score(y_test, model.predict(X_test)))\n",
    "    print('***************************************')"
   ]
  },
  {
   "cell_type": "code",
   "execution_count": 105,
   "metadata": {},
   "outputs": [
    {
     "name": "stdout",
     "output_type": "stream",
     "text": [
      "\n",
      "LGBMRegressor(boosting_type='gbdt', class_weight=None, colsample_bytree=1.0,\n",
      "              importance_type='split', learning_rate=0.1, max_depth=-1,\n",
      "              min_child_samples=20, min_child_weight=0.001, min_split_gain=0.0,\n",
      "              n_estimators=50, n_jobs=-1, num_leaves=31, objective=None,\n",
      "              random_state=None, reg_alpha=0.0, reg_lambda=0.0, silent=True,\n",
      "              subsample=1.0, subsample_for_bin=200000, subsample_freq=0)\n",
      "\n",
      "***************************************\n",
      "MSE:   9.71009062620088\n",
      "r2:    0.18842632881225252\n",
      "***************************************\n"
     ]
    }
   ],
   "source": [
    "metrics(l, y_test, X_test)"
   ]
  },
  {
   "cell_type": "code",
   "execution_count": 106,
   "metadata": {},
   "outputs": [
    {
     "name": "stdout",
     "output_type": "stream",
     "text": [
      "Максимальное предсказанное число:  38.31275140105914\n",
      "Минимальное предсказанное число:  8.027196579460059\n"
     ]
    }
   ],
   "source": [
    "print('Максимальное предсказанное число: ', np.max(l.predict(X_test)))\n",
    "print('Минимальное предсказанное число: ', np.min(l.predict(X_test)))"
   ]
  },
  {
   "cell_type": "code",
   "execution_count": 95,
   "metadata": {
    "collapsed": true,
    "jupyter": {
     "outputs_hidden": true
    }
   },
   "outputs": [
    {
     "ename": "AttributeError",
     "evalue": "'DataFrame' object has no attribute 'Attestation1'",
     "output_type": "error",
     "traceback": [
      "\u001b[0;31m---------------------------------------------------------------------------\u001b[0m",
      "\u001b[0;31mAttributeError\u001b[0m                            Traceback (most recent call last)",
      "\u001b[0;32m<ipython-input-95-8bb0d9269abc>\u001b[0m in \u001b[0;36m<module>\u001b[0;34m\u001b[0m\n\u001b[0;32m----> 1\u001b[0;31m \u001b[0my_test\u001b[0m\u001b[0;34m.\u001b[0m\u001b[0mAttestation1\u001b[0m\u001b[0;34m.\u001b[0m\u001b[0mmax\u001b[0m\u001b[0;34m(\u001b[0m\u001b[0;34m)\u001b[0m\u001b[0;34m,\u001b[0m \u001b[0my_test\u001b[0m\u001b[0;34m.\u001b[0m\u001b[0mAttestation1\u001b[0m\u001b[0;34m.\u001b[0m\u001b[0mmin\u001b[0m\u001b[0;34m(\u001b[0m\u001b[0;34m)\u001b[0m\u001b[0;34m\u001b[0m\u001b[0;34m\u001b[0m\u001b[0m\n\u001b[0m",
      "\u001b[0;32m/anaconda3/lib/python3.7/site-packages/pandas/core/generic.py\u001b[0m in \u001b[0;36m__getattr__\u001b[0;34m(self, name)\u001b[0m\n\u001b[1;32m   5177\u001b[0m             \u001b[0;32mif\u001b[0m \u001b[0mself\u001b[0m\u001b[0;34m.\u001b[0m\u001b[0m_info_axis\u001b[0m\u001b[0;34m.\u001b[0m\u001b[0m_can_hold_identifiers_and_holds_name\u001b[0m\u001b[0;34m(\u001b[0m\u001b[0mname\u001b[0m\u001b[0;34m)\u001b[0m\u001b[0;34m:\u001b[0m\u001b[0;34m\u001b[0m\u001b[0;34m\u001b[0m\u001b[0m\n\u001b[1;32m   5178\u001b[0m                 \u001b[0;32mreturn\u001b[0m \u001b[0mself\u001b[0m\u001b[0;34m[\u001b[0m\u001b[0mname\u001b[0m\u001b[0;34m]\u001b[0m\u001b[0;34m\u001b[0m\u001b[0;34m\u001b[0m\u001b[0m\n\u001b[0;32m-> 5179\u001b[0;31m             \u001b[0;32mreturn\u001b[0m \u001b[0mobject\u001b[0m\u001b[0;34m.\u001b[0m\u001b[0m__getattribute__\u001b[0m\u001b[0;34m(\u001b[0m\u001b[0mself\u001b[0m\u001b[0;34m,\u001b[0m \u001b[0mname\u001b[0m\u001b[0;34m)\u001b[0m\u001b[0;34m\u001b[0m\u001b[0;34m\u001b[0m\u001b[0m\n\u001b[0m\u001b[1;32m   5180\u001b[0m \u001b[0;34m\u001b[0m\u001b[0m\n\u001b[1;32m   5181\u001b[0m     \u001b[0;32mdef\u001b[0m \u001b[0m__setattr__\u001b[0m\u001b[0;34m(\u001b[0m\u001b[0mself\u001b[0m\u001b[0;34m,\u001b[0m \u001b[0mname\u001b[0m\u001b[0;34m,\u001b[0m \u001b[0mvalue\u001b[0m\u001b[0;34m)\u001b[0m\u001b[0;34m:\u001b[0m\u001b[0;34m\u001b[0m\u001b[0;34m\u001b[0m\u001b[0m\n",
      "\u001b[0;31mAttributeError\u001b[0m: 'DataFrame' object has no attribute 'Attestation1'"
     ]
    }
   ],
   "source": [
    "y_test.Attestation1.max(), y_test.Attestation1.min()"
   ]
  },
  {
   "cell_type": "code",
   "execution_count": 107,
   "metadata": {},
   "outputs": [
    {
     "data": {
      "text/plain": [
       "(array([   9.,   43.,  115.,  216.,  401., 2017., 3982., 4127., 2618.,\n",
       "        1152.]),\n",
       " array([ 8.02719658, 11.05575206, 14.08430754, 17.11286303, 20.14141851,\n",
       "        23.16997399, 26.19852947, 29.22708495, 32.25564044, 35.28419592,\n",
       "        38.3127514 ]),\n",
       " <BarContainer object of 10 artists>)"
      ]
     },
     "execution_count": 107,
     "metadata": {},
     "output_type": "execute_result"
    },
    {
     "data": {
      "image/png": "[encoded data removed]",
      "text/plain": [
       "<Figure size 432x288 with 1 Axes>"
      ]
     },
     "metadata": {
      "needs_background": "light"
     },
     "output_type": "display_data"
    }
   ],
   "source": [
    "y_test.Final.hist()\n",
    "plt.hist(l.predict(X_test))"
   ]
  },
  {
   "cell_type": "code",
   "execution_count": 108,
   "metadata": {},
   "outputs": [
    {
     "data": {
      "text/plain": [
       "<AxesSubplot:title={'center':'Feature importance'}, xlabel='Feature importance', ylabel='Features'>"
      ]
     },
     "execution_count": 108,
     "metadata": {},
     "output_type": "execute_result"
    },
    {
     "data": {
      "image/png": "[encoded data removed]",
      "text/plain": [
       "<Figure size 792x360 with 1 Axes>"
      ]
     },
     "metadata": {
      "needs_background": "light"
     },
     "output_type": "display_data"
    }
   ],
   "source": [
    "lgb.plot_importance(l, figsize=(11,5), grid=False, importance_type='split')"
   ]
  },
  {
   "cell_type": "code",
   "execution_count": 109,
   "metadata": {},
   "outputs": [
    {
     "data": {
      "text/plain": [
       "<AxesSubplot:title={'center':'Feature importance'}, xlabel='Feature importance', ylabel='Features'>"
      ]
     },
     "execution_count": 109,
     "metadata": {},
     "output_type": "execute_result"
    },
    {
     "data": {
      "image/png": "[encoded data removed]",
      "text/plain": [
       "<Figure size 792x360 with 1 Axes>"
      ]
     },
     "metadata": {
      "needs_background": "light"
     },
     "output_type": "display_data"
    }
   ],
   "source": [
    "lgb.plot_importance(l, figsize=(11,5), grid=False, importance_type='gain')"
   ]
  },
  {
   "cell_type": "markdown",
   "metadata": {},
   "source": [
    "# cross validation"
   ]
  },
  {
   "cell_type": "code",
   "execution_count": 336,
   "metadata": {},
   "outputs": [],
   "source": [
    "from sklearn.model_selection import KFold"
   ]
  },
  {
   "cell_type": "code",
   "execution_count": 383,
   "metadata": {},
   "outputs": [],
   "source": [
    "X_kfold, X_val, y_kfold, y_val = train_test_split(\n",
    "    X, y, test_size=0.1, random_state=12)"
   ]
  },
  {
   "cell_type": "code",
   "execution_count": 384,
   "metadata": {},
   "outputs": [],
   "source": [
    "kfold = KFold(n_splits=10, shuffle=False, random_state=0)"
   ]
  },
  {
   "cell_type": "code",
   "execution_count": 385,
   "metadata": {},
   "outputs": [
    {
     "name": "stdout",
     "output_type": "stream",
     "text": [
      "*\n",
      "TRAIN: [ 4994  4995  4996 ... 49933 49934 49935] TEST: [   0    1    2 ... 4991 4992 4993]\n",
      "*\n",
      "TRAIN: [    0     1     2 ... 49933 49934 49935] TEST: [4994 4995 4996 ... 9985 9986 9987]\n",
      "*\n",
      "TRAIN: [    0     1     2 ... 49933 49934 49935] TEST: [ 9988  9989  9990 ... 14979 14980 14981]\n",
      "*\n",
      "TRAIN: [    0     1     2 ... 49933 49934 49935] TEST: [14982 14983 14984 ... 19973 19974 19975]\n",
      "*\n",
      "TRAIN: [    0     1     2 ... 49933 49934 49935] TEST: [19976 19977 19978 ... 24967 24968 24969]\n",
      "*\n",
      "TRAIN: [    0     1     2 ... 49933 49934 49935] TEST: [24970 24971 24972 ... 29961 29962 29963]\n",
      "*\n",
      "TRAIN: [    0     1     2 ... 49933 49934 49935] TEST: [29964 29965 29966 ... 34954 34955 34956]\n",
      "*\n",
      "TRAIN: [    0     1     2 ... 49933 49934 49935] TEST: [34957 34958 34959 ... 39947 39948 39949]\n",
      "*\n",
      "TRAIN: [    0     1     2 ... 49933 49934 49935] TEST: [39950 39951 39952 ... 44940 44941 44942]\n",
      "*\n",
      "TRAIN: [    0     1     2 ... 44940 44941 44942] TEST: [44943 44944 44945 ... 49933 49934 49935]\n"
     ]
    }
   ],
   "source": [
    "scores_mse = []\n",
    "val_score_mse = []\n",
    "r2_sc = []\n",
    "val_r2_score = []\n",
    "\n",
    "for train_index, test_index in kfold.split(X_kfold):\n",
    "    print('*')\n",
    "    print(\"TRAIN:\", train_index, \"TEST:\", test_index)\n",
    "    X_train_fold, X_test_fold = X_kfold.iloc[train_index], X_kfold.iloc[test_index]\n",
    "    y_train_fold, y_test_fold = y_kfold.iloc[train_index], y_kfold.iloc[test_index]\n",
    "    model = lgb.LGBMRegressor(n_estimators=50)\n",
    "    model.fit(X_train_fold, y_train_fold)\n",
    "    scores_mse.append(mean_squared_error(y_test_fold, model.predict(X_test_fold))**0.5)\n",
    "    r2_sc.append(r2_score(y_test_fold, model.predict(X_test_fold)))\n",
    "    \n",
    "    val_score_mse.append(mean_squared_error(y_val, model.predict(X_val))**0.5)\n",
    "    val_r2_score.append(r2_score(y_val, model.predict(X_val))**0.5)"
   ]
  },
  {
   "cell_type": "code",
   "execution_count": 390,
   "metadata": {},
   "outputs": [
    {
     "data": {
      "text/plain": [
       "(5549, 44943)"
      ]
     },
     "execution_count": 390,
     "metadata": {},
     "output_type": "execute_result"
    }
   ],
   "source": [
    "X_val.shape[0], X_train_fold.shape[0]"
   ]
  },
  {
   "cell_type": "code",
   "execution_count": 414,
   "metadata": {},
   "outputs": [
    {
     "data": {
      "image/png": "[encoded data removed]",
      "text/plain": [
       "<Figure size 720x360 with 1 Axes>"
      ]
     },
     "metadata": {
      "needs_background": "light"
     },
     "output_type": "display_data"
    }
   ],
   "source": [
    "fig, ax = plt.subplots(figsize=(10,5))\n",
    "ax.set_ylim(5,8)\n",
    "ax.plot(range(0,10),scores_mse,'b', label='on folds')\n",
    "ax.plot(range(0,10),val_score_mse,'g', label = 'on val')\n",
    "legend = ax.legend(loc='lower right', shadow=True, fontsize='x-large')\n",
    "plt.show()"
   ]
  },
  {
   "cell_type": "code",
   "execution_count": null,
   "metadata": {},
   "outputs": [],
   "source": [
    "plt.plot(range(0,10),scores_mse, )\n",
    "plt.plot(range(0,10),val_score_mse)"
   ]
  },
  {
   "cell_type": "markdown",
   "metadata": {},
   "source": [
    "# Таблица строгости преподавателя"
   ]
  },
  {
   "cell_type": "code",
   "execution_count": 111,
   "metadata": {},
   "outputs": [
    {
     "name": "stderr",
     "output_type": "stream",
     "text": [
      "/anaconda3/lib/python3.7/site-packages/IPython/core/interactiveshell.py:3146: DtypeWarning: Columns (4,5,8,13,14,15,16,17) have mixed types. Specify dtype option on import or set low_memory=False.\n",
      "  interactivity=interactivity, compiler=compiler, result=result)\n"
     ]
    }
   ],
   "source": [
    "main = pd.read_csv(\n",
    "    'Свежая 24.04.2021.csv', sep=';', header=None\n",
    ")\n",
    "\n",
    "main.columns = [\n",
    "       'StudentID', 'SpecialityID', 'Region', 'District', 'SchoolType',\n",
    "       'School', 'LabInsctructorID', 'PracticeInsctructorID',\n",
    "       'LectureInsctructorID', 'CourseID', 'CourseCode',\n",
    "       'PrerequisiteCourseID', 'PrerequisiteCourseCode', 'CourseTypeID',\n",
    "       'CourseTypeDVOID', 'CourseCreditsNum', 'StudyYear', 'SemesterTypeID',\n",
    "       'LanguageID', 'Attestation1', 'Attestation2', 'Final', 'TotalPoints',\n",
    "       'LetterGrade', 'Coefficient ', 'SemesterGPA', 'YearGPA',\n",
    "       'CumulativeGPA', 'Year'\n",
    "]\n",
    "for i in ['Attestation1','Attestation2','StudyYear','Final',]:\n",
    "    main[i] = main[i].str.replace(',','.').astype(float)\n",
    "\n",
    "for i in ['Attestation1','Attestation2']:\n",
    "    main = main[\n",
    "        (main[i]<=30) & (main[i]>=0)\n",
    "               ]\n",
    "    \n",
    "main = main[\n",
    "    (main.Final<=40) & (main.Final>=0)\n",
    "]"
   ]
  },
  {
   "cell_type": "code",
   "execution_count": 119,
   "metadata": {},
   "outputs": [],
   "source": [
    "p1 = main.groupby(['LectureInsctructorID','StudyYear']).agg({'Attestation1':'mean',\n",
    "                                                        'Attestation2':'mean',\n",
    "                                                        'Final':'mean'\n",
    "                                                       \n",
    "                                                       }).reset_index()\n",
    "p2 = main.groupby(['LabInsctructorID','StudyYear']).agg({'Attestation1':'mean',\n",
    "                                                        'Attestation2':'mean',\n",
    "                                                        'Final':'mean'\n",
    "                                                       \n",
    "                                                       }).reset_index()\n",
    "p3 = main.groupby(['PracticeInsctructorID','StudyYear']).agg({'Attestation1':'mean',\n",
    "                                                        'Attestation2':'mean',\n",
    "                                                        'Final':'mean'\n",
    "                                                       \n",
    "                                                       }).reset_index()"
   ]
  },
  {
   "cell_type": "code",
   "execution_count": 122,
   "metadata": {},
   "outputs": [],
   "source": [
    "p1.columns = ['instructor_id','StudyYear','mean_Attestation1','mean_Attestation2','mean_Final']\n",
    "p2.columns = ['instructor_id','StudyYear','mean_Attestation1','mean_Attestation2','mean_Final']\n",
    "p3.columns = ['instructor_id','StudyYear','mean_Attestation1','mean_Attestation2','mean_Final']"
   ]
  },
  {
   "cell_type": "code",
   "execution_count": 123,
   "metadata": {},
   "outputs": [],
   "source": [
    "res = pd.concat([p1,p2,p3])"
   ]
  },
  {
   "cell_type": "code",
   "execution_count": 129,
   "metadata": {},
   "outputs": [
    {
     "data": {
      "text/html": [
       "<div>\n",
       "<style scoped>\n",
       "    .dataframe tbody tr th:only-of-type {\n",
       "        vertical-align: middle;\n",
       "    }\n",
       "\n",
       "    .dataframe tbody tr th {\n",
       "        vertical-align: top;\n",
       "    }\n",
       "\n",
       "    .dataframe thead th {\n",
       "        text-align: right;\n",
       "    }\n",
       "</style>\n",
       "<table border=\"1\" class=\"dataframe\">\n",
       "  <thead>\n",
       "    <tr style=\"text-align: right;\">\n",
       "      <th></th>\n",
       "      <th>instructor_id</th>\n",
       "      <th>StudyYear</th>\n",
       "      <th>mean_Attestation1</th>\n",
       "      <th>mean_Attestation2</th>\n",
       "      <th>mean_Final</th>\n",
       "    </tr>\n",
       "  </thead>\n",
       "  <tbody>\n",
       "    <tr>\n",
       "      <th>0</th>\n",
       "      <td>396</td>\n",
       "      <td>2018.0</td>\n",
       "      <td>21.046154</td>\n",
       "      <td>26.738462</td>\n",
       "      <td>33.846154</td>\n",
       "    </tr>\n",
       "    <tr>\n",
       "      <th>1</th>\n",
       "      <td>396</td>\n",
       "      <td>2020.0</td>\n",
       "      <td>24.500000</td>\n",
       "      <td>23.000000</td>\n",
       "      <td>33.500000</td>\n",
       "    </tr>\n",
       "    <tr>\n",
       "      <th>2</th>\n",
       "      <td>400</td>\n",
       "      <td>2017.0</td>\n",
       "      <td>22.761194</td>\n",
       "      <td>23.432836</td>\n",
       "      <td>33.880597</td>\n",
       "    </tr>\n",
       "    <tr>\n",
       "      <th>3</th>\n",
       "      <td>400</td>\n",
       "      <td>2018.0</td>\n",
       "      <td>23.017778</td>\n",
       "      <td>26.294444</td>\n",
       "      <td>33.622222</td>\n",
       "    </tr>\n",
       "    <tr>\n",
       "      <th>4</th>\n",
       "      <td>401</td>\n",
       "      <td>2017.0</td>\n",
       "      <td>28.952381</td>\n",
       "      <td>28.238095</td>\n",
       "      <td>37.047619</td>\n",
       "    </tr>\n",
       "    <tr>\n",
       "      <th>...</th>\n",
       "      <td>...</td>\n",
       "      <td>...</td>\n",
       "      <td>...</td>\n",
       "      <td>...</td>\n",
       "      <td>...</td>\n",
       "    </tr>\n",
       "    <tr>\n",
       "      <th>2208</th>\n",
       "      <td>54563</td>\n",
       "      <td>2020.0</td>\n",
       "      <td>30.000000</td>\n",
       "      <td>26.600000</td>\n",
       "      <td>37.600000</td>\n",
       "    </tr>\n",
       "    <tr>\n",
       "      <th>2209</th>\n",
       "      <td>54564</td>\n",
       "      <td>2020.0</td>\n",
       "      <td>30.000000</td>\n",
       "      <td>22.080000</td>\n",
       "      <td>30.880000</td>\n",
       "    </tr>\n",
       "    <tr>\n",
       "      <th>2210</th>\n",
       "      <td>54568</td>\n",
       "      <td>2020.0</td>\n",
       "      <td>30.000000</td>\n",
       "      <td>10.516667</td>\n",
       "      <td>37.500000</td>\n",
       "    </tr>\n",
       "    <tr>\n",
       "      <th>2211</th>\n",
       "      <td>54589</td>\n",
       "      <td>2020.0</td>\n",
       "      <td>27.600000</td>\n",
       "      <td>26.480000</td>\n",
       "      <td>34.600000</td>\n",
       "    </tr>\n",
       "    <tr>\n",
       "      <th>2212</th>\n",
       "      <td>54609</td>\n",
       "      <td>2017.0</td>\n",
       "      <td>26.404255</td>\n",
       "      <td>27.553191</td>\n",
       "      <td>31.787234</td>\n",
       "    </tr>\n",
       "  </tbody>\n",
       "</table>\n",
       "<p>6469 rows × 5 columns</p>\n",
       "</div>"
      ],
      "text/plain": [
       "     instructor_id  StudyYear  mean_Attestation1  mean_Attestation2  \\\n",
       "0              396     2018.0          21.046154          26.738462   \n",
       "1              396     2020.0          24.500000          23.000000   \n",
       "2              400     2017.0          22.761194          23.432836   \n",
       "3              400     2018.0          23.017778          26.294444   \n",
       "4              401     2017.0          28.952381          28.238095   \n",
       "...            ...        ...                ...                ...   \n",
       "2208         54563     2020.0          30.000000          26.600000   \n",
       "2209         54564     2020.0          30.000000          22.080000   \n",
       "2210         54568     2020.0          30.000000          10.516667   \n",
       "2211         54589     2020.0          27.600000          26.480000   \n",
       "2212         54609     2017.0          26.404255          27.553191   \n",
       "\n",
       "      mean_Final  \n",
       "0      33.846154  \n",
       "1      33.500000  \n",
       "2      33.880597  \n",
       "3      33.622222  \n",
       "4      37.047619  \n",
       "...          ...  \n",
       "2208   37.600000  \n",
       "2209   30.880000  \n",
       "2210   37.500000  \n",
       "2211   34.600000  \n",
       "2212   31.787234  \n",
       "\n",
       "[6469 rows x 5 columns]"
      ]
     },
     "execution_count": 129,
     "metadata": {},
     "output_type": "execute_result"
    }
   ],
   "source": [
    "res"
   ]
  },
  {
   "cell_type": "code",
   "execution_count": null,
   "metadata": {},
   "outputs": [],
   "source": []
  }
 ],
 "metadata": {
  "kernelspec": {
   "display_name": "Python 3",
   "language": "python",
   "name": "python3"
  },
  "language_info": {
   "codemirror_mode": {
    "name": "ipython",
    "version": 3
   },
   "file_extension": ".py",
   "mimetype": "text/x-python",
   "name": "python",
   "nbconvert_exporter": "python",
   "pygments_lexer": "ipython3",
   "version": "3.8.5"
  }
 },
 "nbformat": 4,
 "nbformat_minor": 4
}
